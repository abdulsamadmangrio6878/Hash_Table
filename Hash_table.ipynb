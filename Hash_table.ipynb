{
 "cells": [
  {
   "cell_type": "code",
   "execution_count": 2,
   "metadata": {},
   "outputs": [
    {
     "name": "stdout",
     "output_type": "stream",
     "text": [
      "5\n",
      "7\n"
     ]
    },
    {
     "ename": "KeyError",
     "evalue": "'Key not found'",
     "output_type": "error",
     "traceback": [
      "\u001b[1;31m---------------------------------------------------------------------------\u001b[0m",
      "\u001b[1;31mKeyError\u001b[0m                                  Traceback (most recent call last)",
      "Cell \u001b[1;32mIn[2], line 68\u001b[0m\n\u001b[0;32m     65\u001b[0m hash_table\u001b[39m.\u001b[39mremove(\u001b[39m\"\u001b[39m\u001b[39morange\u001b[39m\u001b[39m\"\u001b[39m)\n\u001b[0;32m     67\u001b[0m \u001b[39m# Try to retrieve a removed key (raises KeyError)\u001b[39;00m\n\u001b[1;32m---> 68\u001b[0m \u001b[39mprint\u001b[39m(hash_table\u001b[39m.\u001b[39;49mget(\u001b[39m\"\u001b[39;49m\u001b[39morange\u001b[39;49m\u001b[39m\"\u001b[39;49m))  \u001b[39m# Output: KeyError: 'Key not found'\u001b[39;00m\n",
      "Cell \u001b[1;32mIn[2], line 43\u001b[0m, in \u001b[0;36mHashTable.get\u001b[1;34m(self, key)\u001b[0m\n\u001b[0;32m     40\u001b[0m     \u001b[39mif\u001b[39;00m existing_key \u001b[39m==\u001b[39m key:\n\u001b[0;32m     41\u001b[0m         \u001b[39mreturn\u001b[39;00m value\n\u001b[1;32m---> 43\u001b[0m \u001b[39mraise\u001b[39;00m \u001b[39mKeyError\u001b[39;00m(\u001b[39m\"\u001b[39m\u001b[39mKey not found\u001b[39m\u001b[39m\"\u001b[39m)\n",
      "\u001b[1;31mKeyError\u001b[0m: 'Key not found'"
     ]
    }
   ],
   "source": [
    "class HashTable:\n",
    "    def __init__(self, size):\n",
    "        self.size = size\n",
    "        self.table = [[] for _ in range(size)]\n",
    "\n",
    "    def _hash_function(self, key):\n",
    "        return hash(key) % self.size\n",
    "\n",
    "    def insert(self, key, value):\n",
    "        index = self._hash_function(key)\n",
    "        bucket = self.table[index]\n",
    "\n",
    "        # Check if the key already exists in the bucket\n",
    "        for i, (existing_key, _) in enumerate(bucket):\n",
    "            if existing_key == key:\n",
    "                bucket[i] = (key, value)\n",
    "                return\n",
    "\n",
    "        # Key does not exist in the bucket, add a new entry\n",
    "        bucket.append((key, value))\n",
    "\n",
    "    def remove(self, key):\n",
    "        index = self._hash_function(key)\n",
    "        bucket = self.table[index]\n",
    "\n",
    "        # Find the key in the bucket and remove it\n",
    "        for i, (existing_key, _) in enumerate(bucket):\n",
    "            if existing_key == key:\n",
    "                del bucket[i]\n",
    "                return\n",
    "\n",
    "        raise KeyError(\"Key not found\")\n",
    "\n",
    "    def get(self, key):\n",
    "        index = self._hash_function(key)\n",
    "        bucket = self.table[index]\n",
    "\n",
    "        # Find the key in the bucket and return its value\n",
    "        for existing_key, value in bucket:\n",
    "            if existing_key == key:\n",
    "                return value\n",
    "\n",
    "        raise KeyError(\"Key not found\")\n",
    "\n",
    "\n",
    "\n",
    "\n",
    "\n",
    "\n",
    "\n",
    "\n",
    "# Create a hash table with a size of 10\n",
    "hash_table = HashTable(10)\n",
    "\n",
    "# Insert key-value pairs\n",
    "hash_table.insert(\"apple\", 5)\n",
    "hash_table.insert(\"banana\", 7)\n",
    "hash_table.insert(\"orange\", 3)\n",
    "\n",
    "# Retrieve values\n",
    "print(hash_table.get(\"apple\"))  # Output: 5\n",
    "print(hash_table.get(\"banana\"))  # Output: 7\n",
    "\n",
    "# Remove a key-value pair\n",
    "hash_table.remove(\"orange\")\n",
    "\n",
    "# Try to retrieve a removed key (raises KeyError)\n",
    "print(hash_table.get(\"orange\"))  # Output: KeyError: 'Key not found'"
   ]
  }
 ],
 "metadata": {
  "kernelspec": {
   "display_name": "Python 3",
   "language": "python",
   "name": "python3"
  },
  "language_info": {
   "codemirror_mode": {
    "name": "ipython",
    "version": 3
   },
   "file_extension": ".py",
   "mimetype": "text/x-python",
   "name": "python",
   "nbconvert_exporter": "python",
   "pygments_lexer": "ipython3",
   "version": "3.11.1"
  },
  "orig_nbformat": 4
 },
 "nbformat": 4,
 "nbformat_minor": 2
}
